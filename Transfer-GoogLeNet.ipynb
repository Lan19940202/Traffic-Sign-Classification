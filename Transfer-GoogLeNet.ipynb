{
 "cells": [
  {
   "cell_type": "markdown",
   "metadata": {},
   "source": [
    "# Self-Driving Car Engineer Nanodegree\n",
    "\n",
    "## Deep Learning\n",
    "\n",
    "## Project: Build a Traffic Sign Recognition Classifier\n",
    "\n",
    "This notebook use transfer learning to build a traffic sign recognition classifer using GoogLeNet as base network."
   ]
  },
  {
   "cell_type": "markdown",
   "metadata": {},
   "source": [
    "## Step 0: Load The Data\n",
    "<a href=\"https://d17h27t6h515a5.cloudfront.net/topher/2016/November/581faac4_traffic-signs-data/traffic-signs-data.zip\" target=\"_blank\">Link to download data set</a>"
   ]
  },
  {
   "cell_type": "code",
   "execution_count": 1,
   "metadata": {
    "collapsed": true
   },
   "outputs": [],
   "source": [
    "# Load pickled data\n",
    "import pickle\n",
    "\n",
    "training_file = \"traffic-signs-data/train.p\"\n",
    "testing_file = \"traffic-signs-data/test.p\"\n",
    "\n",
    "with open(training_file, mode='rb') as f:\n",
    "    train = pickle.load(f)\n",
    "with open(testing_file, mode='rb') as f:\n",
    "    test = pickle.load(f)\n",
    "    \n",
    "X_train, y_train = train['features'], train['labels']\n",
    "X_test, y_test = test['features'], test['labels']"
   ]
  },
  {
   "cell_type": "markdown",
   "metadata": {},
   "source": [
    "## Step 1: Dataset Summary & Exploration\n",
    "\n",
    "The pickled data is a dictionary with 4 key/value pairs:\n",
    "\n",
    "- `'features'` is a 4D array containing raw pixel data of the traffic sign images, (num examples, width, height, channels).\n",
    "- `'labels'` is a 2D array containing the label/class id of the traffic sign. The file `signnames.csv` contains id -> name mappings for each id.\n",
    "- `'sizes'` is a list containing tuples, (width, height) representing the the original width and height the image.\n",
    "- `'coords'` is a list containing tuples, (x1, y1, x2, y2) representing coordinates of a bounding box around the sign in the image. **THESE COORDINATES ASSUME THE ORIGINAL IMAGE. THE PICKLED DATA CONTAINS RESIZED VERSIONS (32 by 32) OF THESE IMAGES**\n",
    "\n",
    "Complete the basic data summary below."
   ]
  },
  {
   "cell_type": "code",
   "execution_count": 2,
   "metadata": {
    "collapsed": false
   },
   "outputs": [
    {
     "name": "stdout",
     "output_type": "stream",
     "text": [
      "Number of training examples = 39209\n",
      "Number of testing examples = 12630\n",
      "Image data shape = (32, 32, 3)\n",
      "Number of classes = 43\n"
     ]
    }
   ],
   "source": [
    "import numpy as np\n",
    "\n",
    "# Number of training examples\n",
    "n_train = len(y_train)\n",
    "\n",
    "# Number of testing examples.\n",
    "n_test = len(y_test)\n",
    "\n",
    "# The shape of an traffic sign image?\n",
    "image_shape = X_train[0].shape\n",
    "\n",
    "# Number of unique classes/labels in the dataset.\n",
    "n_classes = len(np.unique(y_train))\n",
    "\n",
    "print(\"Number of training examples =\", n_train)\n",
    "print(\"Number of testing examples =\", n_test)\n",
    "print(\"Image data shape =\", image_shape)\n",
    "print(\"Number of classes =\", n_classes)"
   ]
  },
  {
   "cell_type": "code",
   "execution_count": 3,
   "metadata": {
    "collapsed": false
   },
   "outputs": [
    {
     "name": "stdout",
     "output_type": "stream",
     "text": [
      "34\n"
     ]
    },
    {
     "data": {
      "image/png": "[encoded data removed]",
      "text/plain": [
       "<matplotlib.figure.Figure at 0x10dc8ac88>"
      ]
     },
     "metadata": {},
     "output_type": "display_data"
    }
   ],
   "source": [
    "### Data exploration visualization goes here.\n",
    "### Feel free to use as many code cells as needed.\n",
    "import matplotlib.pyplot as plt\n",
    "import random\n",
    "# Visualizations will be shown in the notebook.\n",
    "%matplotlib inline\n",
    "\n",
    "# plot a random training image\n",
    "plt.subplot(3,1,1)\n",
    "index = random.randint(0, len(X_train))\n",
    "image = X_train[index].squeeze()\n",
    "plt.imshow(image, cmap=\"gray\")\n",
    "print(y_train[index])\n",
    "\n",
    "# plot label distribution of training examples\n",
    "plt.subplot(3,1,2)\n",
    "n, bins, patches = plt.hist(y_train, 43)\n",
    "\n",
    "# plot label distribution of test examples\n",
    "plt.subplot(3,1,3)\n",
    "n, bins, patches = plt.hist(y_test, 43)"
   ]
  },
  {
   "cell_type": "markdown",
   "metadata": {},
   "source": [
    "## Step 2: Data Augmentation \n",
    "1. even distribute the training data set\n",
    "2. randomly warped and add shadow to traning data\n",
    "3. build keras data generator"
   ]
  },
  {
   "cell_type": "code",
   "execution_count": null,
   "metadata": {
    "collapsed": true
   },
   "outputs": [],
   "source": [
    "# data augmentation helper functinos\n",
    "import cv2\n",
    "import numpy as np\n",
    "import matplotlib.image as mpimg\n",
    "import matplotlib.pyplot as plt\n",
    "%matplotlib inline\n",
    "\n",
    "# random shift\n",
    "def random_shift(image,angle,trans_range):\n",
    "    # Translation\n",
    "    tr_x = trans_range*np.random.uniform()-trans_range/2\n",
    "    tr_y = 40*np.random.uniform()-40/2\n",
    "    angle = angle + tr_x/trans_range*2*0.2\n",
    "    rows, cols, chan = image.shape\n",
    "    M = np.float32([[1,0,tr_x],[0,1,tr_y]])\n",
    "    image = cv2.warpAffine(image, M, (cols,rows))\n",
    "    return image, angle\n",
    "\n",
    "# random brightness\n",
    "def random_brightness(image):\n",
    "    image = cv2.cvtColor(image,cv2.COLOR_RGB2HSV)\n",
    "    random_bright = 0.2+np.random.uniform() # range from 0.2 to 1.2 of original image brightness\n",
    "    image[:,:,2] = image[:,:,2]*random_bright\n",
    "    image = cv2.cvtColor(image,cv2.COLOR_HSV2RGB)\n",
    "    return image\n",
    "\n",
    "# random shadow\n",
    "def random_shadow(image):\n",
    "    top_y = 320*np.random.uniform()\n",
    "    top_x = 0\n",
    "    bot_x = 160\n",
    "    bot_y = 320*np.random.uniform()\n",
    "    image_hls = cv2.cvtColor(image,cv2.COLOR_RGB2HLS)\n",
    "    shadow_mask = 0*image_hls[:,:,1]\n",
    "    X_m = np.mgrid[0:image.shape[0],0:image.shape[1]][0]\n",
    "    Y_m = np.mgrid[0:image.shape[0],0:image.shape[1]][1]\n",
    "    shadow_mask[((X_m-top_x)*(bot_y-top_y) -(bot_x - top_x)*(Y_m-top_y) >=0)]=1\n",
    "    #random_bright = .25+.7*np.random.uniform()\n",
    "    if np.random.randint(2)==1:\n",
    "        random_bright = 0.5\n",
    "        cond1 = shadow_mask==1\n",
    "        cond0 = shadow_mask==0\n",
    "        if np.random.randint(2)==1:\n",
    "            image_hls[:,:,1][cond1] = image_hls[:,:,1][cond1]*random_bright\n",
    "        else:\n",
    "            image_hls[:,:,1][cond0] = image_hls[:,:,1][cond0]*random_bright    \n",
    "    image = cv2.cvtColor(image_hls,cv2.COLOR_HLS2RGB)\n",
    "    return image\n",
    "\n",
    "# random flip\n",
    "def random_flip(image, angle):\n",
    "    flip = np.random.randint(2)\n",
    "    if flip:\n",
    "        image = cv2.flip(image,1)\n",
    "        angle = -angle\n",
    "    return image, angle\n",
    "\n",
    "# img_reader\n",
    "def img_reader(record_id):\n",
    "    cam_pos = np.random.randint(3)\n",
    "    image_path = log[record_id][cam_pos]\n",
    "    # left camera shift angle 0.27, right camera shift angle -0.27\n",
    "    if (cam_pos == 0):# center cam\n",
    "        shift_ang = 0\n",
    "    if (cam_pos == 1): # left cam\n",
    "        shift_ang = 0.27\n",
    "    if (cam_pos == 2): # right cam\n",
    "        shift_ang = -0.27\n",
    "    angle = file_path = log[record_id][3] + shift_ang\n",
    "    image = mpimg.imread(image_path)\n",
    "    \n",
    "    # augmentation pipeline\n",
    "    image = random_shadow(image)\n",
    "    image, angle = random_shift(image, angle, 100)\n",
    "    image = random_brightness(image)\n",
    "    image, angle = random_flip(image, angle)\n",
    "    return image, angle\n",
    "\n",
    "\n",
    "# test case\n",
    "record_id = np.random.randint(len(log))\n",
    "path = log[record_id][0]\n",
    "print(log[record_id][3])\n",
    "image = mpimg.imread(path)\n",
    "plt.figure(0)\n",
    "plt.imshow(image)\n",
    "image, angle = img_reader(record_id)\n",
    "image = image[50:-25,:,:]\n",
    "print(image.shape)\n",
    "plt.figure(1)\n",
    "plt.imshow(image)\n",
    "print(angle)\n",
    "plt.figure(2)\n",
    "plt.imshow(image[:,:,0], cmap=\"gray\")\n",
    "plt.figure(3)\n",
    "plt.imshow(image[:,:,1], cmap=\"gray\")\n",
    "plt.figure(4)\n",
    "plt.imshow(image[:,:,2], cmap=\"gray\")"
   ]
  }
 ],
 "metadata": {
  "kernelspec": {
   "display_name": "Python 3",
   "language": "python",
   "name": "python3"
  },
  "language_info": {
   "codemirror_mode": {
    "name": "ipython",
    "version": 3
   },
   "file_extension": ".py",
   "mimetype": "text/x-python",
   "name": "python",
   "nbconvert_exporter": "python",
   "pygments_lexer": "ipython3",
   "version": "3.5.2"
  },
  "widgets": {
   "state": {},
   "version": "1.1.2"
  }
 },
 "nbformat": 4,
 "nbformat_minor": 2
}
